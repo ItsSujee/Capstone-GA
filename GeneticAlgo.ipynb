{
 "cells": [
  {
   "cell_type": "code",
   "execution_count": 113,
   "id": "c2356547",
   "metadata": {},
   "outputs": [],
   "source": [
    "import random\n",
    "import numpy as np"
   ]
  },
  {
   "cell_type": "code",
   "execution_count": 114,
   "id": "ccac35b5",
   "metadata": {},
   "outputs": [],
   "source": [
    "# Modelling Constants\n",
    "dist_between_stations = [44.8, 16.7, 107.9, 61.2, 14.1, 34.2, 7.2, 24.4, 25.3, 20.7, 5.3, 29.6, 18.2, 10.5, 21.6, 56.6, 4.0, 15.5, 53.2, 17.0, 72.7, 81.0, 18.4, 16.7, 97.3, 104.7, 6.9] # km\n",
    "vert_dist_to_highway = [467, 500, 200, 200, 600, 330, 200, 875, 530, 640, 450, 200, 300, 1100, 980, 670, 910, 600, 1075, 200, 450, 200, 560, 200, 200, 200, 200, 200] # m\n",
    "\n",
    "# Look in winter & safety factor on worst case\n",
    "truck_range = 500\n",
    "factor_safety = 4\n",
    "max_allowable_dist = truck_range / factor_safety\n",
    "\n",
    "# ONRoute proxy\n",
    "is_onroute = [0,0,1,1,0,0,1,0,0,0,0,1,0,0,0,0,0,0,0,1,0,1,0,1,1,1,1,1] # bool"
   ]
  },
  {
   "cell_type": "code",
   "execution_count": 115,
   "id": "ae36240c",
   "metadata": {},
   "outputs": [],
   "source": [
    "def genTrial():\n",
    "    \"\"\"Generate a random trial\n",
    "    \n",
    "    return bool array of length 28\n",
    "    \"\"\"\n",
    "    return random.choices([0, 1], k=28)"
   ]
  },
  {
   "cell_type": "code",
   "execution_count": 238,
   "id": "1298455a",
   "metadata": {},
   "outputs": [],
   "source": [
    "# Fitness Function\n",
    "def fitness(trial):\n",
    "    \"\"\"Determine the fitness of a trial\n",
    "    \n",
    "    Low Fitness = Bad Solution\n",
    "    \n",
    "    Fitness = 0 Means Impossible Solution\n",
    "    \n",
    "    return [trial, fitness]\n",
    "    \"\"\"\n",
    "    answer = 0\n",
    "    alpha1 = 1\n",
    "    alpha2 = 1\n",
    "    alpha3 = 1\n",
    "    alpha4 = 1\n",
    "    \n",
    "    # Check if one of the first three stations are chosen\n",
    "    if sum([trial[0], trial[1], trial[2]]) == 0:\n",
    "        return [trial, 0]\n",
    "    \n",
    "    # Check if one of the last two stations are chosen\n",
    "    if sum([trial[-1], trial[-2]]) == 0:\n",
    "        return [trial, 0]\n",
    "    \n",
    "    # Check distance of travel between stations is less than max allowable\n",
    "    travel_distances = []\n",
    "    temp = 0\n",
    "    for i,v in enumerate(trial):\n",
    "        # Case for last element\n",
    "        if i == len(trial) - 1:\n",
    "            break\n",
    "        # if 1 else 0\n",
    "        if v:\n",
    "            temp += dist_between_stations[i]\n",
    "            travel_distances.append(temp)\n",
    "            temp = 0\n",
    "        else:\n",
    "            temp += dist_between_stations[i]\n",
    "    if max(travel_distances) > max_allowable_dist:\n",
    "        return [trial, 0]\n",
    "    \n",
    "    # Score distance of travel between stations\n",
    "    mean_travel_distances = sum(travel_distances) / len(travel_distances)\n",
    "    score_travel_distances = (mean_travel_distances / max_allowable_dist) * 100\n",
    "    answer += alpha1 * score_travel_distances\n",
    "    \n",
    "    # Score vertical distance of travel to station from highway\n",
    "    vert_distances = sum([v for i,v in zip(trial, vert_dist_to_highway) if i])\n",
    "    score_vert_distances = (1 - vert_distances / sum(vert_dist_to_highway)) * 100\n",
    "    answer += alpha2 * score_vert_distances\n",
    "    \n",
    "    # Score is OnRoute Station\n",
    "    onRoute_locations = sum([v for i,v in zip(trial, is_onroute) if i])\n",
    "    score_onRoute_locations = onRoute_locations / sum(is_onroute) * 100\n",
    "    answer += alpha3 * score_onRoute_locations\n",
    "    \n",
    "    # Check number of stations\n",
    "    score_number_stations = (1 - sum(trial) / len(trial)) * 100\n",
    "    answer += alpha4 * score_number_stations\n",
    "    \n",
    "    return [trial, answer]"
   ]
  },
  {
   "cell_type": "code",
   "execution_count": 270,
   "id": "6a6361d3",
   "metadata": {},
   "outputs": [
    {
     "name": "stdout",
     "output_type": "stream",
     "text": [
      "[[1, 1, 1, 1, 1, 1, 1, 1, 0, 1, 1, 1, 1, 0, 1, 1, 1, 0, 1, 0, 1, 1, 1, 1, 1, 0, 0, 1], 148.8343584214129]\n"
     ]
    }
   ],
   "source": [
    "x = genTrial()\n",
    "y = fitness(x)\n",
    "while y[1] == 0:\n",
    "    x = genTrial()\n",
    "    y = fitness(x)\n",
    "print(y)"
   ]
  },
  {
   "cell_type": "code",
   "execution_count": null,
   "id": "8551b5f2",
   "metadata": {},
   "outputs": [],
   "source": []
  },
  {
   "cell_type": "code",
   "execution_count": null,
   "id": "0ed2e0af",
   "metadata": {},
   "outputs": [],
   "source": []
  },
  {
   "cell_type": "code",
   "execution_count": null,
   "id": "2df3a5fd",
   "metadata": {},
   "outputs": [],
   "source": []
  }
 ],
 "metadata": {
  "kernelspec": {
   "display_name": "Python 3 (ipykernel)",
   "language": "python",
   "name": "python3"
  },
  "language_info": {
   "codemirror_mode": {
    "name": "ipython",
    "version": 3
   },
   "file_extension": ".py",
   "mimetype": "text/x-python",
   "name": "python",
   "nbconvert_exporter": "python",
   "pygments_lexer": "ipython3",
   "version": "3.9.16"
  }
 },
 "nbformat": 4,
 "nbformat_minor": 5
}
