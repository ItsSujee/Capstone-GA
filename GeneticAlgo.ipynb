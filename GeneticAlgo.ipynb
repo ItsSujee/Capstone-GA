{
 "cells": [
  {
   "cell_type": "code",
   "execution_count": 1,
   "id": "c2356547",
   "metadata": {},
   "outputs": [],
   "source": [
    "import numpy as np\n",
    "from geneticalgorithm import geneticalgorithm as ga"
   ]
  },
  {
   "cell_type": "code",
   "execution_count": 2,
   "id": "ccac35b5",
   "metadata": {},
   "outputs": [],
   "source": [
    "# Modelling Constants\n",
    "dist_between_stations = [44.8, 16.7, 107.9, 61.2, 14.1, 34.2, 7.2, 24.4, 25.3, 20.7, 5.3, 29.6, 18.2, 10.5, 21.6, 56.6, 4.0, 15.5, 53.2, 17.0, 72.7, 81.0, 18.4, 16.7, 97.3, 104.7, 6.9] # km\n",
    "vert_dist_to_highway = [467, 500, 200, 200, 600, 330, 200, 875, 530, 640, 450, 200, 300, 1100, 980, 670, 910, 600, 1075, 200, 450, 200, 560, 200, 200, 200, 200, 200] # m\n",
    "\n",
    "# Look in winter & safety factor on worst case\n",
    "truck_range = 500\n",
    "factor_safety = 4\n",
    "max_allowable_dist = truck_range / factor_safety\n",
    "\n",
    "# ONRoute proxy\n",
    "is_onroute = [0,0,1,1,0,0,1,0,0,0,0,1,0,0,0,0,0,0,0,1,0,1,0,1,1,1,1,1] # bool"
   ]
  },
  {
   "cell_type": "code",
   "execution_count": 18,
   "id": "1298455a",
   "metadata": {},
   "outputs": [],
   "source": [
    "# Fitness Function\n",
    "def fitness(trial):\n",
    "    \"\"\"Determine the fitness of a trial\n",
    "    \n",
    "    * The GA minimizes the solution! Negative needs to be provided to maximize the solution\n",
    "    \n",
    "    High Fitness = Bad Solution\n",
    "    \n",
    "    \n",
    "    return fitness\n",
    "    \"\"\"\n",
    "    # Horizontal Distance\n",
    "    alpha1 = 1\n",
    "    # Vertical Distance     \n",
    "    alpha2 = 0.1\n",
    "    # OnRoute Proxy    \n",
    "    alpha3 = 1\n",
    "    # Number of Stations    \n",
    "    alpha4 = 1\n",
    "    \n",
    "    answer = 0\n",
    "    \n",
    "    # Check if one of the first three stations are chosen\n",
    "    if sum([trial[0], trial[1], trial[2]]) == 0:\n",
    "        answer += 800\n",
    "    \n",
    "    # Check if one of the last two stations are chosen\n",
    "    if sum([trial[-1], trial[-2]]) == 0 :\n",
    "        answer += 800\n",
    "    \n",
    "    # Check distance of travel between stations is less than max allowable\n",
    "    travel_distances = []\n",
    "    temp = 0\n",
    "    for i,v in enumerate(trial):\n",
    "        # Case for last element\n",
    "        if i == len(trial) - 1:\n",
    "            break\n",
    "        # if 1 else 0\n",
    "        if v:\n",
    "            temp += dist_between_stations[i]\n",
    "            travel_distances.append(temp)\n",
    "            temp = 0\n",
    "        else:\n",
    "            temp += dist_between_stations[i]\n",
    "    try:\n",
    "        if max(travel_distances) > max_allowable_dist:\n",
    "            answer += 1000\n",
    "    except Exception as e:\n",
    "        return 100000\n",
    "    \n",
    "    # Score distance of travel between stations\n",
    "    mean_travel_distances = sum(travel_distances) / len(travel_distances)\n",
    "    score_travel_distances = (mean_travel_distances / max_allowable_dist) * 100\n",
    "    answer += -1 * alpha1 * score_travel_distances\n",
    "    \n",
    "    # Score vertical distance of travel to station from highway\n",
    "    vert_distances = sum([v for i,v in zip(trial, vert_dist_to_highway) if i])\n",
    "    score_vert_distances = (1 - vert_distances / sum(vert_dist_to_highway)) * 100\n",
    "    answer += -1 * alpha2 * score_vert_distances\n",
    "    \n",
    "    # Score is OnRoute Station\n",
    "    onRoute_locations = sum([v for i,v in zip(trial, is_onroute) if i])\n",
    "    score_onRoute_locations = onRoute_locations / sum(is_onroute) * 100\n",
    "    answer += -1 * alpha3 * score_onRoute_locations\n",
    "    \n",
    "    # Check number of stations\n",
    "    score_number_stations = (1 - sum(trial) / len(trial)) * 100\n",
    "    answer += -1 * alpha4 * score_number_stations\n",
    "    \n",
    "    return answer"
   ]
  },
  {
   "cell_type": "code",
   "execution_count": 26,
   "id": "8551b5f2",
   "metadata": {},
   "outputs": [],
   "source": [
    "# Create Genetic Algorithm Model\n",
    "\"\"\"\n",
    "@ max_num_iteration: The termination criterion of geneticalgorithm. If this parameter's value is None the algorithm sets maximum number of iterations automatically as a function of the dimension, boundaries, and population size. The user may enter any number of iterations that they want. It is highly recommended that the user themselves determines the max_num_iterations and not to use None.\n",
    "\n",
    "@ population_size: determines the number of trial solutions in each iteration. The default value is 100.\n",
    "\n",
    "@ mutation_probability: determines the chance of each gene in each individual solution to be replaced by a random value. The default is 0.1 (i.e. 10 percent).\n",
    "\n",
    "@ elit_ration: determines the number of elites in the population. The default value is 0.01 (i.e. 1 percent). For example when population size is 100 and elit_ratio is 0.01 then there is one elite in the population. If this parameter is set to be zero then geneticalgorithm implements a standard genetic algorithm instead of elitist GA.\n",
    "\n",
    "@ crossover_probability: determines the chance of an existed solution to pass its genome (aka characteristics) to new trial solutions (aka offspring); the default value is 0.5 (i.e. 50 percent)\n",
    "\n",
    "@ parents_portion: the portion of population filled by the members of the previous generation (aka parents); default is 0.3 (i.e. 30 percent of population)\n",
    "\n",
    "@ crossover_type: there are three options including one_point; two_point, and uniform crossover functions; default is uniform crossover\n",
    "\n",
    "@ max_iteration_without_improv: if the algorithms does not improve the objective function over the number of successive iterations determined by this parameter, then geneticalgorithm stops and report the best found solution before the max_num_iterations to be met. The default value is None.\n",
    "\"\"\"\n",
    "\n",
    "algorithm_param = {'max_num_iteration': 10000,\\\n",
    "                   'population_size':100,\\\n",
    "                   'mutation_probability':0.1,\\\n",
    "                   'elit_ratio': 0.01,\\\n",
    "                   'crossover_probability': 0.5,\\\n",
    "                   'parents_portion': 0.3,\\\n",
    "                   'crossover_type':'uniform',\\\n",
    "                   'max_iteration_without_improv':None}\n",
    "\n",
    "model = ga(function=fitness,dimension=28,variable_type='bool',algorithm_parameters=algorithm_param)"
   ]
  },
  {
   "cell_type": "code",
   "execution_count": 27,
   "id": "012e3b9e",
   "metadata": {},
   "outputs": [
    {
     "name": "stdout",
     "output_type": "stream",
     "text": [
      " The best solution found:                                                                           \n",
      " [1. 0. 1. 0. 0. 0. 1. 0. 0. 0. 0. 1. 0. 0. 0. 1. 0. 0. 0. 1. 1. 0. 0. 1.\n",
      " 1. 0. 1. 1.]\n",
      "\n",
      " Objective function:\n",
      " -219.88991320472232\n"
     ]
    },
    {
     "data": {
      "image/png": "[encoded data removed]",
      "text/plain": [
       "<Figure size 432x288 with 1 Axes>"
      ]
     },
     "metadata": {
      "needs_background": "light"
     },
     "output_type": "display_data"
    }
   ],
   "source": [
    "# Run GA Model\n",
    "model.run()"
   ]
  },
  {
   "cell_type": "code",
   "execution_count": 24,
   "id": "0ed2e0af",
   "metadata": {},
   "outputs": [],
   "source": [
    "# Print Report\n",
    "convergence = model.report\n",
    "np.savetxt(\"convergence.csv\", convergence, delimiter=\",\")\n",
    "# print(convergence)"
   ]
  },
  {
   "cell_type": "code",
   "execution_count": 25,
   "id": "2df3a5fd",
   "metadata": {},
   "outputs": [
    {
     "name": "stdout",
     "output_type": "stream",
     "text": [
      "{'variable': array([1., 0., 1., 0., 0., 0., 1., 0., 0., 0., 0., 1., 0., 0., 0., 1., 0.,\n",
      "       0., 0., 1., 1., 0., 0., 1., 1., 0., 1., 1.]), 'function': -219.88991320472232}\n"
     ]
    }
   ],
   "source": [
    "# Print Best Solutions\n",
    "solution = model.output_dict\n",
    "print(solution)"
   ]
  },
  {
   "cell_type": "code",
   "execution_count": null,
   "id": "89904c7b",
   "metadata": {},
   "outputs": [],
   "source": []
  }
 ],
 "metadata": {
  "kernelspec": {
   "display_name": "Python 3 (ipykernel)",
   "language": "python",
   "name": "python3"
  },
  "language_info": {
   "codemirror_mode": {
    "name": "ipython",
    "version": 3
   },
   "file_extension": ".py",
   "mimetype": "text/x-python",
   "name": "python",
   "nbconvert_exporter": "python",
   "pygments_lexer": "ipython3",
   "version": "3.9.16"
  }
 },
 "nbformat": 4,
 "nbformat_minor": 5
}
